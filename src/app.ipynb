{
 "cells": [
  {
   "cell_type": "code",
   "execution_count": 1,
   "metadata": {},
   "outputs": [],
   "source": [
    "# from taipy import Config\n",
    "# import taipy as tp\n",
    "\n",
    "# Config.load('main_config.toml')\n",
    "\n",
    "# tp.Core().run()\n",
    "\n",
    "# scenario_1 = tp.create_scenario(Config.scenarios['scenario_1'])"
   ]
  },
  {
   "cell_type": "code",
   "execution_count": 2,
   "metadata": {},
   "outputs": [
    {
     "name": "stdout",
     "output_type": "stream",
     "text": [
      "[2023-10-30 06:01:40][Taipy][INFO] Development mode: Clean all entities of version 38dadba3-9254-46c8-9f12-7f1584ebc180\n"
     ]
    }
   ],
   "source": [
    "import taipy as tp\n",
    "from config import scenario_cfg\n",
    "\n",
    "tp.Core().run()\n",
    "\n",
    "scenario_1 = tp.create_scenario(scenario_cfg)"
   ]
  },
  {
   "cell_type": "code",
   "execution_count": 3,
   "metadata": {},
   "outputs": [],
   "source": [
    "#scenario_1.path_to_data.write(\"data/LARGE_customers_data.csv\")"
   ]
  },
  {
   "cell_type": "code",
   "execution_count": 4,
   "metadata": {},
   "outputs": [
    {
     "name": "stdout",
     "output_type": "stream",
     "text": [
      "__________________________________________________________\n",
      "1. TASK 1: DATA PREPROCESSING AND CUSTOMER SCORING ...\n",
      "Time of Execution: 196.8142 ms\n",
      "[2023-10-30 06:01:40][Taipy][INFO] job JOB_preprocess_and_score_a4f6019d-4613-461c-870d-30b289c1367a is completed.\n",
      "__________________________________________________________\n",
      "2. TASK 2: FEATURE ENGINEERING AND SEGMENTATION ...\n",
      "Time of Execution: 7.7044 ms\n",
      "[2023-10-30 06:01:40][Taipy][INFO] job JOB_featurization_and_segmentation_e52f7ffe-9aa8-42c1-ba18-383db5ccb7e2 is completed.\n",
      "__________________________________________________________\n",
      "3. TASK 3: SEGMENT ANALYSIS ...\n",
      "Time of Execution: 7.2430 ms\n",
      "[2023-10-30 06:01:40][Taipy][INFO] job JOB_segment_analysis_7f1071c3-5ae7-4518-bf09-2fb93e9612bc is completed.\n",
      "__________________________________________________________\n",
      "4. TASK 4: ADDITIONAL ANALYSIS BASED ON SEGMENT ANALYSIS ...\n",
      "Time of Execution: 4.6185 ms\n",
      "[2023-10-30 06:01:40][Taipy][INFO] job JOB_high_value_cust_summary_statistics_3dff8136-aea9-45d2-96bd-85cd7e14ace3 is completed.\n"
     ]
    },
    {
     "data": {
      "text/plain": [
       "[scenario_1 > preprocess_and_score > JOB_preprocess_and_score_a4f6019d-4613-461c-870d-30b289c1367a,\n",
       " scenario_1 > featurization_and_segmentation > JOB_featurization_and_segmentation_e52f7ffe-9aa8-42c1-ba18-383db5ccb7e2,\n",
       " scenario_1 > segment_analysis > JOB_segment_analysis_7f1071c3-5ae7-4518-bf09-2fb93e9612bc,\n",
       " scenario_1 > high_value_cust_summary_statistics > JOB_high_value_cust_summary_statistics_3dff8136-aea9-45d2-96bd-85cd7e14ace3]"
      ]
     },
     "execution_count": 4,
     "metadata": {},
     "output_type": "execute_result"
    }
   ],
   "source": [
    "#initial submit -- all tasks will be executed\n",
    "scenario_1.submit()"
   ]
  },
  {
   "cell_type": "code",
   "execution_count": 5,
   "metadata": {},
   "outputs": [
    {
     "name": "stdout",
     "output_type": "stream",
     "text": [
      "[2023-10-30 06:01:41][Taipy][INFO] job JOB_preprocess_and_score_49ff4238-3f6e-4ada-8117-7066f6c3ff70 is skipped.\n",
      "__________________________________________________________\n",
      "2. TASK 2: FEATURE ENGINEERING AND SEGMENTATION ...\n",
      "Time of Execution: 6.3985 ms\n",
      "[2023-10-30 06:01:41][Taipy][INFO] job JOB_featurization_and_segmentation_41fc8ff2-4018-4633-a291-deec4b5f20cb is completed.\n",
      "__________________________________________________________\n",
      "3. TASK 3: SEGMENT ANALYSIS ...\n",
      "Time of Execution: 5.4597 ms\n",
      "[2023-10-30 06:01:41][Taipy][INFO] job JOB_segment_analysis_ab0b1319-d0ea-439f-ad37-4cf4a59d0a1e is completed.\n",
      "__________________________________________________________\n",
      "4. TASK 4: ADDITIONAL ANALYSIS BASED ON SEGMENT ANALYSIS ...\n",
      "Time of Execution: 3.4799 ms\n",
      "[2023-10-30 06:01:41][Taipy][INFO] job JOB_high_value_cust_summary_statistics_0d6b3f1a-631d-4752-9f4a-4d89540084a3 is completed.\n"
     ]
    },
    {
     "data": {
      "text/plain": [
       "[scenario_1 > preprocess_and_score > JOB_preprocess_and_score_49ff4238-3f6e-4ada-8117-7066f6c3ff70,\n",
       " scenario_1 > featurization_and_segmentation > JOB_featurization_and_segmentation_41fc8ff2-4018-4633-a291-deec4b5f20cb,\n",
       " scenario_1 > segment_analysis > JOB_segment_analysis_ab0b1319-d0ea-439f-ad37-4cf4a59d0a1e,\n",
       " scenario_1 > high_value_cust_summary_statistics > JOB_high_value_cust_summary_statistics_0d6b3f1a-631d-4752-9f4a-4d89540084a3]"
      ]
     },
     "execution_count": 5,
     "metadata": {},
     "output_type": "execute_result"
    }
   ],
   "source": [
    "# Changing the parameter of task 2 \n",
    "# -> Task 1 is skipped\n",
    "\n",
    "scenario_1.payment_threshold.write(1600)\n",
    "scenario_1.submit()"
   ]
  },
  {
   "cell_type": "code",
   "execution_count": 6,
   "metadata": {},
   "outputs": [
    {
     "name": "stdout",
     "output_type": "stream",
     "text": [
      "[2023-10-30 06:01:41][Taipy][INFO] job JOB_preprocess_and_score_35a5cf53-82ce-423f-8927-588c348f8805 is skipped.\n",
      "[2023-10-30 06:01:41][Taipy][INFO] job JOB_featurization_and_segmentation_e998f5cd-9f51-4bfe-b8d0-73ba88c75680 is skipped.\n",
      "__________________________________________________________\n",
      "3. TASK 3: SEGMENT ANALYSIS ...\n",
      "Time of Execution: 7.3227 ms\n",
      "[2023-10-30 06:01:41][Taipy][INFO] job JOB_segment_analysis_e75ccde2-d137-490c-ae8e-6020b8710cd9 is completed.\n",
      "__________________________________________________________\n",
      "4. TASK 4: ADDITIONAL ANALYSIS BASED ON SEGMENT ANALYSIS ...\n",
      "Time of Execution: 3.3853 ms\n",
      "[2023-10-30 06:01:41][Taipy][INFO] job JOB_high_value_cust_summary_statistics_6908e47c-e6c4-481d-b198-317b28bf6476 is completed.\n"
     ]
    },
    {
     "data": {
      "text/plain": [
       "[scenario_1 > preprocess_and_score > JOB_preprocess_and_score_35a5cf53-82ce-423f-8927-588c348f8805,\n",
       " scenario_1 > featurization_and_segmentation > JOB_featurization_and_segmentation_e998f5cd-9f51-4bfe-b8d0-73ba88c75680,\n",
       " scenario_1 > segment_analysis > JOB_segment_analysis_e75ccde2-d137-490c-ae8e-6020b8710cd9,\n",
       " scenario_1 > high_value_cust_summary_statistics > JOB_high_value_cust_summary_statistics_6908e47c-e6c4-481d-b198-317b28bf6476]"
      ]
     },
     "execution_count": 6,
     "metadata": {},
     "output_type": "execute_result"
    }
   ],
   "source": [
    "# Changing the parameter of task 3\n",
    "# -> Task 1, 2 are skipped\n",
    "\n",
    "scenario_1.metric.write(\"median\")\n",
    "scenario_1.submit()"
   ]
  },
  {
   "cell_type": "code",
   "execution_count": 7,
   "metadata": {},
   "outputs": [
    {
     "name": "stdout",
     "output_type": "stream",
     "text": [
      "[2023-10-30 06:01:41][Taipy][INFO] job JOB_preprocess_and_score_56b64625-f952-48f8-b7e4-53971a179911 is skipped.\n",
      "[2023-10-30 06:01:41][Taipy][INFO] job JOB_featurization_and_segmentation_3a57b024-61e1-47b8-8a6f-ca877011257c is skipped.\n",
      "[2023-10-30 06:01:41][Taipy][INFO] job JOB_segment_analysis_6c64d6b7-c06d-44c3-99be-c9deb65cf9ae is skipped.\n",
      "__________________________________________________________\n",
      "4. TASK 4: ADDITIONAL ANALYSIS BASED ON SEGMENT ANALYSIS ...\n",
      "Time of Execution: 3.2942 ms\n",
      "[2023-10-30 06:01:41][Taipy][INFO] job JOB_high_value_cust_summary_statistics_9cfe5b0d-7950-4158-838d-8a4cef9207fd is completed.\n"
     ]
    },
    {
     "data": {
      "text/plain": [
       "[scenario_1 > preprocess_and_score > JOB_preprocess_and_score_56b64625-f952-48f8-b7e4-53971a179911,\n",
       " scenario_1 > featurization_and_segmentation > JOB_featurization_and_segmentation_3a57b024-61e1-47b8-8a6f-ca877011257c,\n",
       " scenario_1 > segment_analysis > JOB_segment_analysis_6c64d6b7-c06d-44c3-99be-c9deb65cf9ae,\n",
       " scenario_1 > high_value_cust_summary_statistics > JOB_high_value_cust_summary_statistics_9cfe5b0d-7950-4158-838d-8a4cef9207fd]"
      ]
     },
     "execution_count": 7,
     "metadata": {},
     "output_type": "execute_result"
    }
   ],
   "source": [
    "# Changing the parameter of task 4\n",
    "# -> Task 1, 2, 3 are skipped\n",
    "\n",
    "scenario_1.summary_statistic_type.write(\"mean\")\n",
    "scenario_1.submit()"
   ]
  }
 ],
 "metadata": {
  "kernelspec": {
   "display_name": ".venv-3.0.0",
   "language": "python",
   "name": "python3"
  },
  "language_info": {
   "codemirror_mode": {
    "name": "ipython",
    "version": 3
   },
   "file_extension": ".py",
   "mimetype": "text/x-python",
   "name": "python",
   "nbconvert_exporter": "python",
   "pygments_lexer": "ipython3",
   "version": "3.10.10"
  },
  "orig_nbformat": 4
 },
 "nbformat": 4,
 "nbformat_minor": 2
}
